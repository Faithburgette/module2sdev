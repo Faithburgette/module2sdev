{
 "cells": [
  {
   "cell_type": "code",
   "execution_count": null,
   "id": "2186e073-c394-4824-b602-55bfa3aed81d",
   "metadata": {},
   "outputs": [],
   "source": [
    "'''\n",
    "Faith Burgette\n",
    "SDEV 220\n",
    "4.1\n",
    "'''\n",
    "\n",
    "secret = 4\n",
    "guess = 6\n",
    "if secret > guess:\n",
    "    print('Guess is too low!')\n",
    "elif secret == guess:\n",
    "    print('Just right!')\n",
    "else:\n",
    "    print('Guess is too high!')\n"
   ]
  },
  {
   "cell_type": "code",
   "execution_count": null,
   "id": "ccc0278a-460c-4e46-9486-c1fbc16742f9",
   "metadata": {},
   "outputs": [],
   "source": [
    "'''\n",
    "Faith Burgette \n",
    "Module 2\n",
    "Assignment 4.2 \n",
    "'''\n",
    "\n",
    "#creating boolean values\n",
    "small = True\n",
    "green = True\n",
    "\n",
    "#dictionary w/ characteristics\n",
    "foods = {\n",
    "    'Cherry' : (True, False),\n",
    "    'Pea' : (True, True),\n",
    "    'Watermelon' : (False, True),\n",
    "    'Pumpkin' : (False, False)}\n",
    "\n",
    "#testing for 2x true\n",
    "for food, (is_small, is_green) in foods.items():\n",
    "    if is_small == small and is_green == green:\n",
    "        print( 'A', str(food), \"is small and green!\")\n",
    "    else:\n",
    "        print('A', str(food), 'is not both small and green.')"
   ]
  },
  {
   "cell_type": "code",
   "execution_count": null,
   "id": "427df90d-37b6-45d1-bee5-ba507f474e54",
   "metadata": {},
   "outputs": [],
   "source": [
    "'''\n",
    "Faith Burgette\n",
    "SDEV 220\n",
    "Assignment 6.1\n",
    "'''\n",
    "\n",
    "for x in range(3,-1,-1):\n",
    "    print(x)"
   ]
  },
  {
   "cell_type": "code",
   "execution_count": null,
   "id": "0d7f8336-902a-4a35-b903-a6df4ab9d573",
   "metadata": {},
   "outputs": [],
   "source": [
    "'''\n",
    "Faith Burgette \n",
    "SDEV 220\n",
    "6.2\n",
    "'''\n",
    "\n",
    "#Variables assigning \n",
    "guess_me = 7\n",
    "number = 1\n",
    "\n",
    "#comparison\n",
    "while number <= guess_me + 2 :\n",
    "    print('is too low')\n",
    "    if number == guess_me:\n",
    "        print('found it!')        \n",
    "        break\n",
    "    if number > guess_me:\n",
    "        print('oops')\n",
    "        break\n",
    "    number += 1"
   ]
  },
  {
   "cell_type": "code",
   "execution_count": null,
   "id": "7a7810f8-c0af-4a11-a24c-20a379d124a9",
   "metadata": {},
   "outputs": [],
   "source": [
    "'''\n",
    "Faith Burgette\n",
    "SDEV 220\n",
    "6.3\n",
    "'''\n",
    "\n",
    "#variables\n",
    "guess_me = 5\n",
    "\n",
    "#loop and iterate\n",
    "\n",
    "for number in range(0,10,1):\n",
    "    if number < guess_me:\n",
    "        print('too low')\n",
    "    elif number == guess_me:\n",
    "        print('found it!')\n",
    "        break \n",
    "if number > guess_me:\n",
    "    print('oops')  \n"
   ]
  }
 ],
 "metadata": {
  "kernelspec": {
   "display_name": "Python [conda env:base] *",
   "language": "python",
   "name": "conda-base-py"
  },
  "language_info": {
   "codemirror_mode": {
    "name": "ipython",
    "version": 3
   },
   "file_extension": ".py",
   "mimetype": "text/x-python",
   "name": "python",
   "nbconvert_exporter": "python",
   "pygments_lexer": "ipython3",
   "version": "3.12.7"
  }
 },
 "nbformat": 4,
 "nbformat_minor": 5
}
